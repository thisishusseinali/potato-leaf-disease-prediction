{
  "nbformat": 4,
  "nbformat_minor": 0,
  "metadata": {
    "colab": {
      "provenance": []
    },
    "kernelspec": {
      "name": "python3",
      "display_name": "Python 3"
    },
    "language_info": {
      "name": "python"
    },
    "accelerator": "GPU"
  },
  "cells": [
    {
      "cell_type": "markdown",
      "source": [
        "# **Potato Leaf Disease Prediction Using Simple CNN**"
      ],
      "metadata": {
        "id": "s5OIp6H3bDkz"
      }
    },
    {
      "cell_type": "code",
      "execution_count": 1,
      "metadata": {
        "id": "LdOrfnV9a-w6"
      },
      "outputs": [],
      "source": [
        "import numpy as np\n",
        "import matplotlib.pyplot as plt\n",
        "import glob\n",
        "import cv2\n",
        "import os\n",
        "import matplotlib.image as mpimg\n",
        "import random\n",
        "from sklearn import preprocessing\n",
        "import tensorflow.keras as keras\n",
        "import tensorflow as tf\n",
        "from keras.preprocessing.image import ImageDataGenerator\n",
        "from tensorflow.keras.utils import to_categorical"
      ]
    },
    {
      "cell_type": "code",
      "source": [
        "SIZE = 256\n",
        "SEED_TRAINING = 121\n",
        "SEED_TESTING = 197\n",
        "SEED_VALIDATION = 164\n",
        "CHANNELS = 3\n",
        "n_classes = 3\n",
        "EPOCHS = 50\n",
        "BATCH_SIZE = 16\n",
        "input_shape = (SIZE, SIZE, CHANNELS)"
      ],
      "metadata": {
        "id": "s_chXiAUbggy"
      },
      "execution_count": 2,
      "outputs": []
    },
    {
      "cell_type": "code",
      "source": [
        "train_datagen = ImageDataGenerator(\n",
        "        rescale = 1./255,\n",
        "        rotation_range = 30,\n",
        "        shear_range = 0.2,\n",
        "        zoom_range = 0.2,\n",
        "        width_shift_range=0.05,\n",
        "        height_shift_range=0.05,\n",
        "        horizontal_flip = True,\n",
        "        fill_mode = 'nearest')"
      ],
      "metadata": {
        "id": "iicyHl63bluf"
      },
      "execution_count": 3,
      "outputs": []
    },
    {
      "cell_type": "code",
      "source": [
        "validation_datagen = ImageDataGenerator(rescale=1./255)\n",
        "test_datagen = ImageDataGenerator(rescale = 1./255)"
      ],
      "metadata": {
        "id": "R0Q6WNsrblrl"
      },
      "execution_count": 4,
      "outputs": []
    },
    {
      "cell_type": "code",
      "source": [
        "train_generator = train_datagen.flow_from_directory(\n",
        "        directory = '/content/drive/MyDrive/Colab Notebooks/Potato Leaf Disease Prediction/Dataset/Train/',  # this is the input directory\n",
        "        target_size = (256, 256),  # all images will be resized to 64x64\n",
        "        batch_size = BATCH_SIZE,\n",
        "        class_mode = 'categorical',\n",
        "        color_mode=\"rgb\")"
      ],
      "metadata": {
        "colab": {
          "base_uri": "https://localhost:8080/"
        },
        "id": "FEQIM6F1blo2",
        "outputId": "36edb36f-2db6-4f7c-a84b-d3fed8a02771"
      },
      "execution_count": 5,
      "outputs": [
        {
          "output_type": "stream",
          "name": "stdout",
          "text": [
            "Found 900 images belonging to 3 classes.\n"
          ]
        }
      ]
    },
    {
      "cell_type": "code",
      "source": [
        "validation_generator = validation_datagen.flow_from_directory(\n",
        "        '/content/drive/MyDrive/Colab Notebooks/Potato Leaf Disease Prediction/Dataset/Valid/',\n",
        "        target_size = (256, 256),\n",
        "        batch_size = BATCH_SIZE,\n",
        "        class_mode='categorical',\n",
        "        color_mode=\"rgb\")"
      ],
      "metadata": {
        "colab": {
          "base_uri": "https://localhost:8080/"
        },
        "id": "zSRiJ1vibll9",
        "outputId": "7695ace1-d2b8-44be-8ee5-5ed52e8581d5"
      },
      "execution_count": 6,
      "outputs": [
        {
          "output_type": "stream",
          "name": "stdout",
          "text": [
            "Found 300 images belonging to 3 classes.\n"
          ]
        }
      ]
    },
    {
      "cell_type": "code",
      "source": [
        "test_generator = test_datagen.flow_from_directory(\n",
        "        '/content/drive/MyDrive/Colab Notebooks/Potato Leaf Disease Prediction/Dataset/Test/',\n",
        "        target_size = (256, 256),\n",
        "        batch_size = BATCH_SIZE,\n",
        "        class_mode = 'categorical',\n",
        "        color_mode = \"rgb\"\n",
        ")"
      ],
      "metadata": {
        "colab": {
          "base_uri": "https://localhost:8080/"
        },
        "id": "PANWXCmIblif",
        "outputId": "ff38b668-0079-4422-c5de-8ece15ab9d5e"
      },
      "execution_count": 7,
      "outputs": [
        {
          "output_type": "stream",
          "name": "stdout",
          "text": [
            "Found 300 images belonging to 3 classes.\n"
          ]
        }
      ]
    },
    {
      "cell_type": "code",
      "source": [
        "model = keras.models.Sequential([\n",
        "        keras.layers.Conv2D(32, (3,3), activation = 'relu', input_shape = input_shape),\n",
        "        keras.layers.MaxPooling2D((2, 2)),\n",
        "        keras.layers.Dropout(0.5),\n",
        "        keras.layers.Conv2D(64, (3,3), activation = 'relu', padding = 'same'),\n",
        "        keras.layers.MaxPooling2D((2,2)),\n",
        "        keras.layers.Dropout(0.5),\n",
        "        keras.layers.Conv2D(64, (3,3), activation = 'relu', padding = 'same'),\n",
        "        keras.layers.MaxPooling2D((2,2)),\n",
        "        keras.layers.Conv2D(64, (3,3), activation = 'relu', padding = 'same'),\n",
        "        keras.layers.MaxPooling2D((2,2)),\n",
        "        keras.layers.Conv2D(64, (3,3), activation = 'relu', padding = 'same'),\n",
        "        keras.layers.MaxPooling2D((2,2)),\n",
        "        keras.layers.Conv2D(64, (3,3), activation = 'relu', padding = 'same'),\n",
        "        keras.layers.MaxPooling2D((2,2)),\n",
        "        keras.layers.Flatten(),\n",
        "        keras.layers.Dense(32, activation ='relu'),\n",
        "        keras.layers.Dense(n_classes, activation='softmax')\n",
        "    ])"
      ],
      "metadata": {
        "id": "7Mvn9wcvcEhf"
      },
      "execution_count": 8,
      "outputs": []
    },
    {
      "cell_type": "code",
      "source": [
        "model.summary()"
      ],
      "metadata": {
        "colab": {
          "base_uri": "https://localhost:8080/"
        },
        "id": "TRIRjeNbcEch",
        "outputId": "8854c756-192f-4239-974f-00f10eb3df05"
      },
      "execution_count": 9,
      "outputs": [
        {
          "output_type": "stream",
          "name": "stdout",
          "text": [
            "Model: \"sequential\"\n",
            "_________________________________________________________________\n",
            " Layer (type)                Output Shape              Param #   \n",
            "=================================================================\n",
            " conv2d (Conv2D)             (None, 254, 254, 32)      896       \n",
            "                                                                 \n",
            " max_pooling2d (MaxPooling2D  (None, 127, 127, 32)     0         \n",
            " )                                                               \n",
            "                                                                 \n",
            " dropout (Dropout)           (None, 127, 127, 32)      0         \n",
            "                                                                 \n",
            " conv2d_1 (Conv2D)           (None, 127, 127, 64)      18496     \n",
            "                                                                 \n",
            " max_pooling2d_1 (MaxPooling  (None, 63, 63, 64)       0         \n",
            " 2D)                                                             \n",
            "                                                                 \n",
            " dropout_1 (Dropout)         (None, 63, 63, 64)        0         \n",
            "                                                                 \n",
            " conv2d_2 (Conv2D)           (None, 63, 63, 64)        36928     \n",
            "                                                                 \n",
            " max_pooling2d_2 (MaxPooling  (None, 31, 31, 64)       0         \n",
            " 2D)                                                             \n",
            "                                                                 \n",
            " conv2d_3 (Conv2D)           (None, 31, 31, 64)        36928     \n",
            "                                                                 \n",
            " max_pooling2d_3 (MaxPooling  (None, 15, 15, 64)       0         \n",
            " 2D)                                                             \n",
            "                                                                 \n",
            " conv2d_4 (Conv2D)           (None, 15, 15, 64)        36928     \n",
            "                                                                 \n",
            " max_pooling2d_4 (MaxPooling  (None, 7, 7, 64)         0         \n",
            " 2D)                                                             \n",
            "                                                                 \n",
            " conv2d_5 (Conv2D)           (None, 7, 7, 64)          36928     \n",
            "                                                                 \n",
            " max_pooling2d_5 (MaxPooling  (None, 3, 3, 64)         0         \n",
            " 2D)                                                             \n",
            "                                                                 \n",
            " flatten (Flatten)           (None, 576)               0         \n",
            "                                                                 \n",
            " dense (Dense)               (None, 32)                18464     \n",
            "                                                                 \n",
            " dense_1 (Dense)             (None, 3)                 99        \n",
            "                                                                 \n",
            "=================================================================\n",
            "Total params: 185,667\n",
            "Trainable params: 185,667\n",
            "Non-trainable params: 0\n",
            "_________________________________________________________________\n"
          ]
        }
      ]
    },
    {
      "cell_type": "code",
      "source": [
        "model.compile(\n",
        "    optimizer = 'adam',\n",
        "    loss = tf.keras.losses.CategoricalCrossentropy(),\n",
        "    metrics  = ['accuracy']\n",
        "    )"
      ],
      "metadata": {
        "id": "aqmeSAWNcEXP"
      },
      "execution_count": 10,
      "outputs": []
    },
    {
      "cell_type": "code",
      "source": [
        "history = model.fit_generator(\n",
        "        train_generator,\n",
        "        steps_per_epoch = train_generator.n // train_generator.batch_size,    #The 2 slashes division return rounded integer\n",
        "        epochs = EPOCHS,\n",
        "        validation_data = validation_generator,\n",
        "        validation_steps = validation_generator.n // validation_generator.batch_size\n",
        "        )"
      ],
      "metadata": {
        "colab": {
          "base_uri": "https://localhost:8080/"
        },
        "id": "wEiCL_5dcEOX",
        "outputId": "2df712ad-1744-484d-dac4-c26ba1854007"
      },
      "execution_count": 11,
      "outputs": [
        {
          "output_type": "stream",
          "name": "stderr",
          "text": [
            "/usr/local/lib/python3.7/dist-packages/ipykernel_launcher.py:6: UserWarning: `Model.fit_generator` is deprecated and will be removed in a future version. Please use `Model.fit`, which supports generators.\n",
            "  \n"
          ]
        },
        {
          "output_type": "stream",
          "name": "stdout",
          "text": [
            "Epoch 1/50\n",
            "56/56 [==============================] - 612s 11s/step - loss: 1.0600 - accuracy: 0.4118 - val_loss: 0.9397 - val_accuracy: 0.5104\n",
            "Epoch 2/50\n",
            "56/56 [==============================] - 15s 261ms/step - loss: 0.6214 - accuracy: 0.7172 - val_loss: 0.4822 - val_accuracy: 0.8056\n",
            "Epoch 3/50\n",
            "56/56 [==============================] - 16s 285ms/step - loss: 0.4200 - accuracy: 0.8179 - val_loss: 0.5488 - val_accuracy: 0.8021\n",
            "Epoch 4/50\n",
            "56/56 [==============================] - 15s 261ms/step - loss: 0.3408 - accuracy: 0.8609 - val_loss: 0.2253 - val_accuracy: 0.9097\n",
            "Epoch 5/50\n",
            "56/56 [==============================] - 15s 260ms/step - loss: 0.2491 - accuracy: 0.9038 - val_loss: 0.3021 - val_accuracy: 0.8715\n",
            "Epoch 6/50\n",
            "56/56 [==============================] - 15s 260ms/step - loss: 0.2792 - accuracy: 0.8880 - val_loss: 0.3973 - val_accuracy: 0.8646\n",
            "Epoch 7/50\n",
            "56/56 [==============================] - 15s 259ms/step - loss: 0.2231 - accuracy: 0.9016 - val_loss: 0.3182 - val_accuracy: 0.8646\n",
            "Epoch 8/50\n",
            "56/56 [==============================] - 15s 261ms/step - loss: 0.3001 - accuracy: 0.8914 - val_loss: 0.5882 - val_accuracy: 0.7083\n",
            "Epoch 9/50\n",
            "56/56 [==============================] - 15s 260ms/step - loss: 0.2520 - accuracy: 0.8959 - val_loss: 0.3936 - val_accuracy: 0.8229\n",
            "Epoch 10/50\n",
            "56/56 [==============================] - 15s 259ms/step - loss: 0.2624 - accuracy: 0.8959 - val_loss: 0.5956 - val_accuracy: 0.6806\n",
            "Epoch 11/50\n",
            "56/56 [==============================] - 15s 276ms/step - loss: 0.2214 - accuracy: 0.9095 - val_loss: 0.3106 - val_accuracy: 0.8785\n",
            "Epoch 12/50\n",
            "56/56 [==============================] - 15s 260ms/step - loss: 0.1980 - accuracy: 0.9276 - val_loss: 0.5260 - val_accuracy: 0.7153\n",
            "Epoch 13/50\n",
            "56/56 [==============================] - 15s 260ms/step - loss: 0.2070 - accuracy: 0.9219 - val_loss: 0.2986 - val_accuracy: 0.8924\n",
            "Epoch 14/50\n",
            "56/56 [==============================] - 15s 261ms/step - loss: 0.2381 - accuracy: 0.9095 - val_loss: 0.3896 - val_accuracy: 0.8333\n",
            "Epoch 15/50\n",
            "56/56 [==============================] - 15s 262ms/step - loss: 0.1754 - accuracy: 0.9367 - val_loss: 0.2736 - val_accuracy: 0.8854\n",
            "Epoch 16/50\n",
            "56/56 [==============================] - 15s 262ms/step - loss: 0.2161 - accuracy: 0.9163 - val_loss: 0.2515 - val_accuracy: 0.8819\n",
            "Epoch 17/50\n",
            "56/56 [==============================] - 15s 261ms/step - loss: 0.2794 - accuracy: 0.8891 - val_loss: 0.5832 - val_accuracy: 0.6701\n",
            "Epoch 18/50\n",
            "56/56 [==============================] - 15s 261ms/step - loss: 0.1925 - accuracy: 0.9287 - val_loss: 0.2597 - val_accuracy: 0.8993\n",
            "Epoch 19/50\n",
            "56/56 [==============================] - 16s 280ms/step - loss: 0.1898 - accuracy: 0.9242 - val_loss: 0.2421 - val_accuracy: 0.9236\n",
            "Epoch 20/50\n",
            "56/56 [==============================] - 15s 264ms/step - loss: 0.1749 - accuracy: 0.9299 - val_loss: 0.2580 - val_accuracy: 0.8854\n",
            "Epoch 21/50\n",
            "56/56 [==============================] - 15s 260ms/step - loss: 0.1703 - accuracy: 0.9242 - val_loss: 0.1817 - val_accuracy: 0.9132\n",
            "Epoch 22/50\n",
            "56/56 [==============================] - 14s 258ms/step - loss: 0.1359 - accuracy: 0.9480 - val_loss: 0.1540 - val_accuracy: 0.9201\n",
            "Epoch 23/50\n",
            "56/56 [==============================] - 15s 261ms/step - loss: 0.1690 - accuracy: 0.9333 - val_loss: 0.3167 - val_accuracy: 0.8611\n",
            "Epoch 24/50\n",
            "56/56 [==============================] - 15s 260ms/step - loss: 0.1768 - accuracy: 0.9310 - val_loss: 0.2205 - val_accuracy: 0.9062\n",
            "Epoch 25/50\n",
            "56/56 [==============================] - 15s 267ms/step - loss: 0.1287 - accuracy: 0.9434 - val_loss: 0.2073 - val_accuracy: 0.8993\n",
            "Epoch 26/50\n",
            "56/56 [==============================] - 16s 282ms/step - loss: 0.1314 - accuracy: 0.9468 - val_loss: 0.2310 - val_accuracy: 0.9028\n",
            "Epoch 27/50\n",
            "56/56 [==============================] - 15s 261ms/step - loss: 0.1540 - accuracy: 0.9400 - val_loss: 0.2868 - val_accuracy: 0.8715\n",
            "Epoch 28/50\n",
            "56/56 [==============================] - 15s 262ms/step - loss: 0.1324 - accuracy: 0.9457 - val_loss: 0.1657 - val_accuracy: 0.9201\n",
            "Epoch 29/50\n",
            "56/56 [==============================] - 15s 259ms/step - loss: 0.1223 - accuracy: 0.9559 - val_loss: 0.2127 - val_accuracy: 0.9097\n",
            "Epoch 30/50\n",
            "56/56 [==============================] - 15s 262ms/step - loss: 0.1280 - accuracy: 0.9548 - val_loss: 0.2631 - val_accuracy: 0.8958\n",
            "Epoch 31/50\n",
            "56/56 [==============================] - 15s 262ms/step - loss: 0.1571 - accuracy: 0.9253 - val_loss: 0.1721 - val_accuracy: 0.9340\n",
            "Epoch 32/50\n",
            "56/56 [==============================] - 15s 261ms/step - loss: 0.1145 - accuracy: 0.9570 - val_loss: 0.2460 - val_accuracy: 0.8854\n",
            "Epoch 33/50\n",
            "56/56 [==============================] - 15s 265ms/step - loss: 0.1266 - accuracy: 0.9491 - val_loss: 0.1319 - val_accuracy: 0.9444\n",
            "Epoch 34/50\n",
            "56/56 [==============================] - 16s 281ms/step - loss: 0.1246 - accuracy: 0.9480 - val_loss: 0.1492 - val_accuracy: 0.9479\n",
            "Epoch 35/50\n",
            "56/56 [==============================] - 15s 262ms/step - loss: 0.1097 - accuracy: 0.9559 - val_loss: 0.2128 - val_accuracy: 0.8993\n",
            "Epoch 36/50\n",
            "56/56 [==============================] - 15s 264ms/step - loss: 0.1193 - accuracy: 0.9581 - val_loss: 0.1741 - val_accuracy: 0.9410\n",
            "Epoch 37/50\n",
            "56/56 [==============================] - 15s 262ms/step - loss: 0.1568 - accuracy: 0.9412 - val_loss: 0.1355 - val_accuracy: 0.9583\n",
            "Epoch 38/50\n",
            "56/56 [==============================] - 15s 265ms/step - loss: 0.1335 - accuracy: 0.9502 - val_loss: 0.2388 - val_accuracy: 0.8993\n",
            "Epoch 39/50\n",
            "56/56 [==============================] - 15s 263ms/step - loss: 0.0884 - accuracy: 0.9604 - val_loss: 0.2003 - val_accuracy: 0.9236\n",
            "Epoch 40/50\n",
            "56/56 [==============================] - 15s 262ms/step - loss: 0.1678 - accuracy: 0.9389 - val_loss: 0.1598 - val_accuracy: 0.9340\n",
            "Epoch 41/50\n",
            "56/56 [==============================] - 15s 268ms/step - loss: 0.0849 - accuracy: 0.9683 - val_loss: 0.1452 - val_accuracy: 0.9340\n",
            "Epoch 42/50\n",
            "56/56 [==============================] - 15s 260ms/step - loss: 0.0873 - accuracy: 0.9661 - val_loss: 0.1708 - val_accuracy: 0.9201\n",
            "Epoch 43/50\n",
            "56/56 [==============================] - 15s 261ms/step - loss: 0.0748 - accuracy: 0.9717 - val_loss: 0.1177 - val_accuracy: 0.9479\n",
            "Epoch 44/50\n",
            "56/56 [==============================] - 15s 265ms/step - loss: 0.1330 - accuracy: 0.9491 - val_loss: 0.1588 - val_accuracy: 0.9340\n",
            "Epoch 45/50\n",
            "56/56 [==============================] - 15s 259ms/step - loss: 0.0632 - accuracy: 0.9751 - val_loss: 0.1084 - val_accuracy: 0.9514\n",
            "Epoch 46/50\n",
            "56/56 [==============================] - 15s 261ms/step - loss: 0.0883 - accuracy: 0.9706 - val_loss: 0.2029 - val_accuracy: 0.9167\n",
            "Epoch 47/50\n",
            "56/56 [==============================] - 15s 260ms/step - loss: 0.0786 - accuracy: 0.9706 - val_loss: 0.1309 - val_accuracy: 0.9410\n",
            "Epoch 48/50\n",
            "56/56 [==============================] - 15s 261ms/step - loss: 0.0770 - accuracy: 0.9717 - val_loss: 0.1011 - val_accuracy: 0.9653\n",
            "Epoch 49/50\n",
            "56/56 [==============================] - 15s 262ms/step - loss: 0.0742 - accuracy: 0.9706 - val_loss: 0.1506 - val_accuracy: 0.9375\n",
            "Epoch 50/50\n",
            "56/56 [==============================] - 15s 265ms/step - loss: 0.0782 - accuracy: 0.9683 - val_loss: 0.1339 - val_accuracy: 0.9375\n"
          ]
        }
      ]
    },
    {
      "cell_type": "code",
      "source": [
        "acc = history.history['accuracy']\n",
        "val_acc = history.history['val_accuracy']\n",
        "loss = history.history['loss']\n",
        "val_loss = history.history['val_loss']"
      ],
      "metadata": {
        "id": "3m1YVofScPzD"
      },
      "execution_count": 12,
      "outputs": []
    },
    {
      "cell_type": "code",
      "source": [
        "plt.figure(figsize=(8, 8))\n",
        "plt.subplot(1, 2, 1)\n",
        "plt.plot(range(EPOCHS), acc, label='Training Accuracy')\n",
        "plt.plot(range(EPOCHS), val_acc, label='Validation Accuracy')\n",
        "plt.legend(loc='lower right')\n",
        "plt.title('Training and Validation Accuracy')\n",
        "plt.subplot(1, 2, 2)\n",
        "plt.plot(range(EPOCHS), loss, label='Training Loss')\n",
        "plt.plot(range(EPOCHS), val_loss, label='Validation Loss')\n",
        "plt.legend(loc='upper right')\n",
        "plt.title('Training and Validation Loss')\n",
        "plt.show()"
      ],
      "metadata": {
        "colab": {
          "base_uri": "https://localhost:8080/",
          "height": 499
        },
        "id": "2YAkqlBDcPv6",
        "outputId": "535cf60c-9138-4798-d5a7-965a26c565e1"
      },
      "execution_count": 13,
      "outputs": [
        {
          "output_type": "display_data",
          "data": {
            "text/plain": [
              "<Figure size 576x576 with 2 Axes>"
            ],
            "image/png": "[encoded data removed]"
          },
          "metadata": {
            "needs_background": "light"
          }
        }
      ]
    },
    {
      "cell_type": "code",
      "source": [
        "# it will save the model\n",
        "model.save('final_model.h5')"
      ],
      "metadata": {
        "id": "xbUA3yUPcPs2"
      },
      "execution_count": 14,
      "outputs": []
    },
    {
      "cell_type": "code",
      "source": [],
      "metadata": {
        "id": "t1B0Ahp2cPp2"
      },
      "execution_count": null,
      "outputs": []
    },
    {
      "cell_type": "code",
      "source": [],
      "metadata": {
        "id": "rtNSWZYfcPmd"
      },
      "execution_count": null,
      "outputs": []
    }
  ]
}